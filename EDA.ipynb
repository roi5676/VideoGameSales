{
 "cells": [
  {
   "cell_type": "code",
   "execution_count": 1,
   "id": "09a7f09e",
   "metadata": {},
   "outputs": [],
   "source": [
    "import numpy as np\n",
    "import pandas as pd\n",
    "import matplotlib.pyplot as plt\n",
    "import seaborn as sb\n",
    "\n",
    "%matplotlib inline"
   ]
  },
  {
   "cell_type": "code",
   "execution_count": 2,
   "id": "dfd7b83c",
   "metadata": {},
   "outputs": [],
   "source": [
    "df = pd.read_csv('merge.csv')"
   ]
  },
  {
   "cell_type": "code",
   "execution_count": 3,
   "id": "28966312",
   "metadata": {},
   "outputs": [
    {
     "data": {
      "text/html": [
       "<div>\n",
       "<style scoped>\n",
       "    .dataframe tbody tr th:only-of-type {\n",
       "        vertical-align: middle;\n",
       "    }\n",
       "\n",
       "    .dataframe tbody tr th {\n",
       "        vertical-align: top;\n",
       "    }\n",
       "\n",
       "    .dataframe thead th {\n",
       "        text-align: right;\n",
       "    }\n",
       "</style>\n",
       "<table border=\"1\" class=\"dataframe\">\n",
       "  <thead>\n",
       "    <tr style=\"text-align: right;\">\n",
       "      <th></th>\n",
       "      <th>Name</th>\n",
       "      <th>Platform</th>\n",
       "      <th>Year_of_Release</th>\n",
       "      <th>Genre</th>\n",
       "      <th>Publisher</th>\n",
       "      <th>NA_Sales</th>\n",
       "      <th>EU_Sales</th>\n",
       "      <th>JP_Sales</th>\n",
       "      <th>Other_Sales</th>\n",
       "      <th>Global_Sales</th>\n",
       "      <th>Critic_Score</th>\n",
       "      <th>Critic_Count</th>\n",
       "      <th>User_Score</th>\n",
       "      <th>User_Count</th>\n",
       "      <th>Developer</th>\n",
       "      <th>Rating</th>\n",
       "    </tr>\n",
       "  </thead>\n",
       "  <tbody>\n",
       "    <tr>\n",
       "      <th>0</th>\n",
       "      <td>Grand Theft Auto V</td>\n",
       "      <td>PlayStation 3</td>\n",
       "      <td>2013.0</td>\n",
       "      <td>Modern</td>\n",
       "      <td>Rockstar Games</td>\n",
       "      <td>6.37</td>\n",
       "      <td>9.85</td>\n",
       "      <td>0.99</td>\n",
       "      <td>3.12</td>\n",
       "      <td>20.32</td>\n",
       "      <td>97.0</td>\n",
       "      <td>50.0</td>\n",
       "      <td>8.3</td>\n",
       "      <td>4779.0</td>\n",
       "      <td>Rockstar North</td>\n",
       "      <td>M</td>\n",
       "    </tr>\n",
       "    <tr>\n",
       "      <th>1</th>\n",
       "      <td>Grand Theft Auto V</td>\n",
       "      <td>PlayStation 4</td>\n",
       "      <td>2014.0</td>\n",
       "      <td>Action Adventure</td>\n",
       "      <td>Rockstar Games</td>\n",
       "      <td>6.06</td>\n",
       "      <td>9.71</td>\n",
       "      <td>0.60</td>\n",
       "      <td>3.02</td>\n",
       "      <td>19.39</td>\n",
       "      <td>97.0</td>\n",
       "      <td>66.0</td>\n",
       "      <td>8.4</td>\n",
       "      <td>6864.0</td>\n",
       "      <td>Rockstar North</td>\n",
       "      <td>M</td>\n",
       "    </tr>\n",
       "    <tr>\n",
       "      <th>2</th>\n",
       "      <td>Grand Theft Auto: Vice City</td>\n",
       "      <td>PlayStation 2</td>\n",
       "      <td>2002.0</td>\n",
       "      <td>Action Adventure</td>\n",
       "      <td>Rockstar Games</td>\n",
       "      <td>8.41</td>\n",
       "      <td>5.49</td>\n",
       "      <td>0.47</td>\n",
       "      <td>1.78</td>\n",
       "      <td>16.15</td>\n",
       "      <td>95.0</td>\n",
       "      <td>62.0</td>\n",
       "      <td>8.8</td>\n",
       "      <td>1254.0</td>\n",
       "      <td>Rockstar North</td>\n",
       "      <td>M</td>\n",
       "    </tr>\n",
       "    <tr>\n",
       "      <th>3</th>\n",
       "      <td>Grand Theft Auto V</td>\n",
       "      <td>Xbox 360</td>\n",
       "      <td>2013.0</td>\n",
       "      <td>Modern</td>\n",
       "      <td>Rockstar Games</td>\n",
       "      <td>9.06</td>\n",
       "      <td>5.33</td>\n",
       "      <td>0.06</td>\n",
       "      <td>1.42</td>\n",
       "      <td>15.86</td>\n",
       "      <td>97.0</td>\n",
       "      <td>58.0</td>\n",
       "      <td>8.3</td>\n",
       "      <td>4026.0</td>\n",
       "      <td>Rockstar North</td>\n",
       "      <td>M</td>\n",
       "    </tr>\n",
       "    <tr>\n",
       "      <th>4</th>\n",
       "      <td>Grand Theft Auto III</td>\n",
       "      <td>PlayStation 2</td>\n",
       "      <td>2001.0</td>\n",
       "      <td>Action Adventure</td>\n",
       "      <td>Rockstar Games</td>\n",
       "      <td>6.99</td>\n",
       "      <td>4.51</td>\n",
       "      <td>0.30</td>\n",
       "      <td>1.30</td>\n",
       "      <td>13.10</td>\n",
       "      <td>97.0</td>\n",
       "      <td>56.0</td>\n",
       "      <td>8.4</td>\n",
       "      <td>1010.0</td>\n",
       "      <td>DMA Design</td>\n",
       "      <td>M</td>\n",
       "    </tr>\n",
       "    <tr>\n",
       "      <th>5</th>\n",
       "      <td>Grand Theft Auto IV</td>\n",
       "      <td>Xbox 360</td>\n",
       "      <td>2008.0</td>\n",
       "      <td>Action Adventure</td>\n",
       "      <td>Rockstar Games</td>\n",
       "      <td>6.80</td>\n",
       "      <td>3.11</td>\n",
       "      <td>0.14</td>\n",
       "      <td>1.04</td>\n",
       "      <td>11.09</td>\n",
       "      <td>98.0</td>\n",
       "      <td>86.0</td>\n",
       "      <td>7.9</td>\n",
       "      <td>3543.0</td>\n",
       "      <td>Rockstar North</td>\n",
       "      <td>M</td>\n",
       "    </tr>\n",
       "    <tr>\n",
       "      <th>6</th>\n",
       "      <td>Grand Theft Auto IV</td>\n",
       "      <td>PlayStation 3</td>\n",
       "      <td>2008.0</td>\n",
       "      <td>Action Adventure</td>\n",
       "      <td>Rockstar Games</td>\n",
       "      <td>4.79</td>\n",
       "      <td>3.73</td>\n",
       "      <td>0.44</td>\n",
       "      <td>1.62</td>\n",
       "      <td>10.57</td>\n",
       "      <td>98.0</td>\n",
       "      <td>64.0</td>\n",
       "      <td>7.8</td>\n",
       "      <td>4354.0</td>\n",
       "      <td>Rockstar North</td>\n",
       "      <td>M</td>\n",
       "    </tr>\n",
       "    <tr>\n",
       "      <th>7</th>\n",
       "      <td>Grand Theft Auto V</td>\n",
       "      <td>Xbox One</td>\n",
       "      <td>2014.0</td>\n",
       "      <td>Action Adventure</td>\n",
       "      <td>Rockstar Games</td>\n",
       "      <td>4.70</td>\n",
       "      <td>3.25</td>\n",
       "      <td>0.01</td>\n",
       "      <td>0.76</td>\n",
       "      <td>8.72</td>\n",
       "      <td>97.0</td>\n",
       "      <td>14.0</td>\n",
       "      <td>7.8</td>\n",
       "      <td>1556.0</td>\n",
       "      <td>Rockstar North</td>\n",
       "      <td>M</td>\n",
       "    </tr>\n",
       "    <tr>\n",
       "      <th>8</th>\n",
       "      <td>Grand Theft Auto: Liberty City Stories</td>\n",
       "      <td>PSP</td>\n",
       "      <td>2005.0</td>\n",
       "      <td>Action Adventure</td>\n",
       "      <td>Rockstar Games</td>\n",
       "      <td>2.90</td>\n",
       "      <td>2.83</td>\n",
       "      <td>0.24</td>\n",
       "      <td>1.74</td>\n",
       "      <td>7.72</td>\n",
       "      <td>88.0</td>\n",
       "      <td>65.0</td>\n",
       "      <td>7.8</td>\n",
       "      <td>579.0</td>\n",
       "      <td>Rockstar North, Rockstar Leeds</td>\n",
       "      <td>M</td>\n",
       "    </tr>\n",
       "    <tr>\n",
       "      <th>9</th>\n",
       "      <td>Uncharted 2: Among Thieves</td>\n",
       "      <td>PlayStation 3</td>\n",
       "      <td>2009.0</td>\n",
       "      <td>Action Adventure</td>\n",
       "      <td>Sony Computer Entertainment</td>\n",
       "      <td>3.28</td>\n",
       "      <td>2.22</td>\n",
       "      <td>0.21</td>\n",
       "      <td>1.02</td>\n",
       "      <td>6.74</td>\n",
       "      <td>96.0</td>\n",
       "      <td>105.0</td>\n",
       "      <td>8.8</td>\n",
       "      <td>7203.0</td>\n",
       "      <td>Naughty Dog</td>\n",
       "      <td>T</td>\n",
       "    </tr>\n",
       "    <tr>\n",
       "      <th>10</th>\n",
       "      <td>Red Dead Redemption</td>\n",
       "      <td>PlayStation 3</td>\n",
       "      <td>2011.0</td>\n",
       "      <td>Action</td>\n",
       "      <td>Rockstar Games</td>\n",
       "      <td>2.82</td>\n",
       "      <td>2.58</td>\n",
       "      <td>0.17</td>\n",
       "      <td>1.00</td>\n",
       "      <td>6.57</td>\n",
       "      <td>95.0</td>\n",
       "      <td>73.0</td>\n",
       "      <td>8.9</td>\n",
       "      <td>3638.0</td>\n",
       "      <td>Rockstar San Diego</td>\n",
       "      <td>M</td>\n",
       "    </tr>\n",
       "    <tr>\n",
       "      <th>11</th>\n",
       "      <td>Red Dead Redemption</td>\n",
       "      <td>Xbox 360</td>\n",
       "      <td>2010.0</td>\n",
       "      <td>Action</td>\n",
       "      <td>Rockstar Games</td>\n",
       "      <td>3.77</td>\n",
       "      <td>2.03</td>\n",
       "      <td>0.09</td>\n",
       "      <td>0.60</td>\n",
       "      <td>6.50</td>\n",
       "      <td>95.0</td>\n",
       "      <td>96.0</td>\n",
       "      <td>9.0</td>\n",
       "      <td>3030.0</td>\n",
       "      <td>Rockstar San Diego</td>\n",
       "      <td>M</td>\n",
       "    </tr>\n",
       "    <tr>\n",
       "      <th>12</th>\n",
       "      <td>Driver</td>\n",
       "      <td>PlayStation</td>\n",
       "      <td>1999.0</td>\n",
       "      <td>Driving</td>\n",
       "      <td>GT Interactive</td>\n",
       "      <td>3.11</td>\n",
       "      <td>2.80</td>\n",
       "      <td>0.02</td>\n",
       "      <td>0.33</td>\n",
       "      <td>6.27</td>\n",
       "      <td>87.0</td>\n",
       "      <td>22.0</td>\n",
       "      <td>8.0</td>\n",
       "      <td>145.0</td>\n",
       "      <td>Reflections Interactive</td>\n",
       "      <td>T</td>\n",
       "    </tr>\n",
       "    <tr>\n",
       "      <th>13</th>\n",
       "      <td>Uncharted: The Nathan Drake Collection</td>\n",
       "      <td>PlayStation 4</td>\n",
       "      <td>2015.0</td>\n",
       "      <td>Miscellaneous</td>\n",
       "      <td>Sony Computer Entertainment</td>\n",
       "      <td>2.55</td>\n",
       "      <td>2.11</td>\n",
       "      <td>0.10</td>\n",
       "      <td>0.94</td>\n",
       "      <td>5.70</td>\n",
       "      <td>86.0</td>\n",
       "      <td>78.0</td>\n",
       "      <td>8.5</td>\n",
       "      <td>3055.0</td>\n",
       "      <td>Bluepoint Games</td>\n",
       "      <td>T</td>\n",
       "    </tr>\n",
       "    <tr>\n",
       "      <th>14</th>\n",
       "      <td>LEGO Star Wars: The Complete Saga</td>\n",
       "      <td>Wii</td>\n",
       "      <td>2007.0</td>\n",
       "      <td>Action</td>\n",
       "      <td>LucasArts</td>\n",
       "      <td>3.57</td>\n",
       "      <td>1.57</td>\n",
       "      <td>0.00</td>\n",
       "      <td>0.52</td>\n",
       "      <td>5.66</td>\n",
       "      <td>80.0</td>\n",
       "      <td>17.0</td>\n",
       "      <td>8.7</td>\n",
       "      <td>113.0</td>\n",
       "      <td>Traveller's Tales</td>\n",
       "      <td>E10+</td>\n",
       "    </tr>\n",
       "    <tr>\n",
       "      <th>15</th>\n",
       "      <td>Assassin's Creed II</td>\n",
       "      <td>PlayStation 3</td>\n",
       "      <td>2009.0</td>\n",
       "      <td>Action Adventure</td>\n",
       "      <td>Ubisoft</td>\n",
       "      <td>2.54</td>\n",
       "      <td>1.95</td>\n",
       "      <td>0.21</td>\n",
       "      <td>0.86</td>\n",
       "      <td>5.57</td>\n",
       "      <td>91.0</td>\n",
       "      <td>70.0</td>\n",
       "      <td>8.7</td>\n",
       "      <td>1907.0</td>\n",
       "      <td>Ubisoft Montreal</td>\n",
       "      <td>M</td>\n",
       "    </tr>\n",
       "    <tr>\n",
       "      <th>16</th>\n",
       "      <td>Assassin's Creed</td>\n",
       "      <td>Xbox 360</td>\n",
       "      <td>2007.0</td>\n",
       "      <td>Action Adventure</td>\n",
       "      <td>Ubisoft</td>\n",
       "      <td>3.28</td>\n",
       "      <td>1.64</td>\n",
       "      <td>0.07</td>\n",
       "      <td>0.56</td>\n",
       "      <td>5.55</td>\n",
       "      <td>81.0</td>\n",
       "      <td>77.0</td>\n",
       "      <td>7.6</td>\n",
       "      <td>1370.0</td>\n",
       "      <td>Ubisoft Montreal</td>\n",
       "      <td>M</td>\n",
       "    </tr>\n",
       "    <tr>\n",
       "      <th>17</th>\n",
       "      <td>Batman: Arkham City</td>\n",
       "      <td>PlayStation 3</td>\n",
       "      <td>2011.0</td>\n",
       "      <td>Action Adventure</td>\n",
       "      <td>Warner Bros. Interactive</td>\n",
       "      <td>2.72</td>\n",
       "      <td>1.89</td>\n",
       "      <td>0.11</td>\n",
       "      <td>0.82</td>\n",
       "      <td>5.54</td>\n",
       "      <td>96.0</td>\n",
       "      <td>42.0</td>\n",
       "      <td>8.8</td>\n",
       "      <td>3061.0</td>\n",
       "      <td>Rocksteady Studios</td>\n",
       "      <td>T</td>\n",
       "    </tr>\n",
       "    <tr>\n",
       "      <th>18</th>\n",
       "      <td>Assassin's Creed II</td>\n",
       "      <td>Xbox 360</td>\n",
       "      <td>2009.0</td>\n",
       "      <td>Action Adventure</td>\n",
       "      <td>Ubisoft</td>\n",
       "      <td>3.14</td>\n",
       "      <td>1.55</td>\n",
       "      <td>0.08</td>\n",
       "      <td>0.52</td>\n",
       "      <td>5.30</td>\n",
       "      <td>90.0</td>\n",
       "      <td>82.0</td>\n",
       "      <td>8.8</td>\n",
       "      <td>1769.0</td>\n",
       "      <td>Ubisoft Montreal</td>\n",
       "      <td>M</td>\n",
       "    </tr>\n",
       "    <tr>\n",
       "      <th>19</th>\n",
       "      <td>Resident Evil 5</td>\n",
       "      <td>PlayStation 3</td>\n",
       "      <td>2009.0</td>\n",
       "      <td>Action Adventure</td>\n",
       "      <td>Capcom</td>\n",
       "      <td>1.96</td>\n",
       "      <td>1.42</td>\n",
       "      <td>1.08</td>\n",
       "      <td>0.64</td>\n",
       "      <td>5.10</td>\n",
       "      <td>84.0</td>\n",
       "      <td>76.0</td>\n",
       "      <td>7.4</td>\n",
       "      <td>902.0</td>\n",
       "      <td>Capcom</td>\n",
       "      <td>M</td>\n",
       "    </tr>\n",
       "  </tbody>\n",
       "</table>\n",
       "</div>"
      ],
      "text/plain": [
       "                                      Name       Platform  Year_of_Release  \\\n",
       "0                       Grand Theft Auto V  PlayStation 3           2013.0   \n",
       "1                       Grand Theft Auto V  PlayStation 4           2014.0   \n",
       "2              Grand Theft Auto: Vice City  PlayStation 2           2002.0   \n",
       "3                       Grand Theft Auto V       Xbox 360           2013.0   \n",
       "4                     Grand Theft Auto III  PlayStation 2           2001.0   \n",
       "5                      Grand Theft Auto IV       Xbox 360           2008.0   \n",
       "6                      Grand Theft Auto IV  PlayStation 3           2008.0   \n",
       "7                       Grand Theft Auto V       Xbox One           2014.0   \n",
       "8   Grand Theft Auto: Liberty City Stories            PSP           2005.0   \n",
       "9               Uncharted 2: Among Thieves  PlayStation 3           2009.0   \n",
       "10                     Red Dead Redemption  PlayStation 3           2011.0   \n",
       "11                     Red Dead Redemption       Xbox 360           2010.0   \n",
       "12                                  Driver    PlayStation           1999.0   \n",
       "13  Uncharted: The Nathan Drake Collection  PlayStation 4           2015.0   \n",
       "14       LEGO Star Wars: The Complete Saga            Wii           2007.0   \n",
       "15                     Assassin's Creed II  PlayStation 3           2009.0   \n",
       "16                        Assassin's Creed       Xbox 360           2007.0   \n",
       "17                     Batman: Arkham City  PlayStation 3           2011.0   \n",
       "18                     Assassin's Creed II       Xbox 360           2009.0   \n",
       "19                         Resident Evil 5  PlayStation 3           2009.0   \n",
       "\n",
       "               Genre                      Publisher  NA_Sales  EU_Sales  \\\n",
       "0             Modern               Rockstar Games        6.37      9.85   \n",
       "1   Action Adventure               Rockstar Games        6.06      9.71   \n",
       "2   Action Adventure               Rockstar Games        8.41      5.49   \n",
       "3             Modern               Rockstar Games        9.06      5.33   \n",
       "4   Action Adventure               Rockstar Games        6.99      4.51   \n",
       "5   Action Adventure               Rockstar Games        6.80      3.11   \n",
       "6   Action Adventure               Rockstar Games        4.79      3.73   \n",
       "7   Action Adventure               Rockstar Games        4.70      3.25   \n",
       "8   Action Adventure               Rockstar Games        2.90      2.83   \n",
       "9   Action Adventure  Sony Computer Entertainment        3.28      2.22   \n",
       "10            Action               Rockstar Games        2.82      2.58   \n",
       "11            Action               Rockstar Games        3.77      2.03   \n",
       "12           Driving               GT Interactive        3.11      2.80   \n",
       "13     Miscellaneous  Sony Computer Entertainment        2.55      2.11   \n",
       "14            Action                    LucasArts        3.57      1.57   \n",
       "15  Action Adventure                      Ubisoft        2.54      1.95   \n",
       "16  Action Adventure                      Ubisoft        3.28      1.64   \n",
       "17  Action Adventure     Warner Bros. Interactive        2.72      1.89   \n",
       "18  Action Adventure                      Ubisoft        3.14      1.55   \n",
       "19  Action Adventure                       Capcom        1.96      1.42   \n",
       "\n",
       "    JP_Sales  Other_Sales  Global_Sales  Critic_Score  Critic_Count  \\\n",
       "0       0.99         3.12         20.32          97.0          50.0   \n",
       "1       0.60         3.02         19.39          97.0          66.0   \n",
       "2       0.47         1.78         16.15          95.0          62.0   \n",
       "3       0.06         1.42         15.86          97.0          58.0   \n",
       "4       0.30         1.30         13.10          97.0          56.0   \n",
       "5       0.14         1.04         11.09          98.0          86.0   \n",
       "6       0.44         1.62         10.57          98.0          64.0   \n",
       "7       0.01         0.76          8.72          97.0          14.0   \n",
       "8       0.24         1.74          7.72          88.0          65.0   \n",
       "9       0.21         1.02          6.74          96.0         105.0   \n",
       "10      0.17         1.00          6.57          95.0          73.0   \n",
       "11      0.09         0.60          6.50          95.0          96.0   \n",
       "12      0.02         0.33          6.27          87.0          22.0   \n",
       "13      0.10         0.94          5.70          86.0          78.0   \n",
       "14      0.00         0.52          5.66          80.0          17.0   \n",
       "15      0.21         0.86          5.57          91.0          70.0   \n",
       "16      0.07         0.56          5.55          81.0          77.0   \n",
       "17      0.11         0.82          5.54          96.0          42.0   \n",
       "18      0.08         0.52          5.30          90.0          82.0   \n",
       "19      1.08         0.64          5.10          84.0          76.0   \n",
       "\n",
       "    User_Score  User_Count                       Developer Rating  \n",
       "0          8.3      4779.0                  Rockstar North      M  \n",
       "1          8.4      6864.0                  Rockstar North      M  \n",
       "2          8.8      1254.0                  Rockstar North      M  \n",
       "3          8.3      4026.0                  Rockstar North      M  \n",
       "4          8.4      1010.0                      DMA Design      M  \n",
       "5          7.9      3543.0                  Rockstar North      M  \n",
       "6          7.8      4354.0                  Rockstar North      M  \n",
       "7          7.8      1556.0                  Rockstar North      M  \n",
       "8          7.8       579.0  Rockstar North, Rockstar Leeds      M  \n",
       "9          8.8      7203.0                     Naughty Dog      T  \n",
       "10         8.9      3638.0              Rockstar San Diego      M  \n",
       "11         9.0      3030.0              Rockstar San Diego      M  \n",
       "12         8.0       145.0         Reflections Interactive      T  \n",
       "13         8.5      3055.0                 Bluepoint Games      T  \n",
       "14         8.7       113.0               Traveller's Tales   E10+  \n",
       "15         8.7      1907.0                Ubisoft Montreal      M  \n",
       "16         7.6      1370.0                Ubisoft Montreal      M  \n",
       "17         8.8      3061.0              Rocksteady Studios      T  \n",
       "18         8.8      1769.0                Ubisoft Montreal      M  \n",
       "19         7.4       902.0                          Capcom      M  "
      ]
     },
     "execution_count": 3,
     "metadata": {},
     "output_type": "execute_result"
    }
   ],
   "source": [
    "df.head(20)"
   ]
  },
  {
   "cell_type": "code",
   "execution_count": 4,
   "id": "028a9be4",
   "metadata": {},
   "outputs": [
    {
     "data": {
      "text/plain": [
       "(9773, 16)"
      ]
     },
     "execution_count": 4,
     "metadata": {},
     "output_type": "execute_result"
    }
   ],
   "source": [
    "df.shape"
   ]
  },
  {
   "cell_type": "code",
   "execution_count": 5,
   "id": "71a7ba1c",
   "metadata": {},
   "outputs": [
    {
     "data": {
      "text/html": [
       "<div>\n",
       "<style scoped>\n",
       "    .dataframe tbody tr th:only-of-type {\n",
       "        vertical-align: middle;\n",
       "    }\n",
       "\n",
       "    .dataframe tbody tr th {\n",
       "        vertical-align: top;\n",
       "    }\n",
       "\n",
       "    .dataframe thead th {\n",
       "        text-align: right;\n",
       "    }\n",
       "</style>\n",
       "<table border=\"1\" class=\"dataframe\">\n",
       "  <thead>\n",
       "    <tr style=\"text-align: right;\">\n",
       "      <th></th>\n",
       "      <th>Year_of_Release</th>\n",
       "      <th>NA_Sales</th>\n",
       "      <th>EU_Sales</th>\n",
       "      <th>JP_Sales</th>\n",
       "      <th>Other_Sales</th>\n",
       "      <th>Global_Sales</th>\n",
       "      <th>Critic_Score</th>\n",
       "      <th>Critic_Count</th>\n",
       "      <th>User_Score</th>\n",
       "      <th>User_Count</th>\n",
       "    </tr>\n",
       "  </thead>\n",
       "  <tbody>\n",
       "    <tr>\n",
       "      <th>count</th>\n",
       "      <td>9773.000000</td>\n",
       "      <td>9773.000000</td>\n",
       "      <td>9773.000000</td>\n",
       "      <td>9773.000000</td>\n",
       "      <td>9773.000000</td>\n",
       "      <td>9773.000000</td>\n",
       "      <td>7779.000000</td>\n",
       "      <td>7779.000000</td>\n",
       "      <td>7825.000000</td>\n",
       "      <td>7825.000000</td>\n",
       "    </tr>\n",
       "    <tr>\n",
       "      <th>mean</th>\n",
       "      <td>2008.542924</td>\n",
       "      <td>0.252005</td>\n",
       "      <td>0.148166</td>\n",
       "      <td>0.020540</td>\n",
       "      <td>0.051846</td>\n",
       "      <td>0.472838</td>\n",
       "      <td>68.560355</td>\n",
       "      <td>24.817200</td>\n",
       "      <td>6.989572</td>\n",
       "      <td>156.563578</td>\n",
       "    </tr>\n",
       "    <tr>\n",
       "      <th>std</th>\n",
       "      <td>4.873190</td>\n",
       "      <td>0.518867</td>\n",
       "      <td>0.418022</td>\n",
       "      <td>0.080151</td>\n",
       "      <td>0.141487</td>\n",
       "      <td>1.008357</td>\n",
       "      <td>13.718801</td>\n",
       "      <td>18.049816</td>\n",
       "      <td>1.433373</td>\n",
       "      <td>556.401673</td>\n",
       "    </tr>\n",
       "    <tr>\n",
       "      <th>min</th>\n",
       "      <td>1970.000000</td>\n",
       "      <td>0.000000</td>\n",
       "      <td>0.000000</td>\n",
       "      <td>0.000000</td>\n",
       "      <td>0.000000</td>\n",
       "      <td>0.010000</td>\n",
       "      <td>12.000000</td>\n",
       "      <td>4.000000</td>\n",
       "      <td>0.600000</td>\n",
       "      <td>4.000000</td>\n",
       "    </tr>\n",
       "    <tr>\n",
       "      <th>25%</th>\n",
       "      <td>2005.000000</td>\n",
       "      <td>0.040000</td>\n",
       "      <td>0.000000</td>\n",
       "      <td>0.000000</td>\n",
       "      <td>0.000000</td>\n",
       "      <td>0.070000</td>\n",
       "      <td>60.000000</td>\n",
       "      <td>11.000000</td>\n",
       "      <td>6.300000</td>\n",
       "      <td>10.000000</td>\n",
       "    </tr>\n",
       "    <tr>\n",
       "      <th>50%</th>\n",
       "      <td>2008.000000</td>\n",
       "      <td>0.100000</td>\n",
       "      <td>0.030000</td>\n",
       "      <td>0.000000</td>\n",
       "      <td>0.010000</td>\n",
       "      <td>0.180000</td>\n",
       "      <td>70.000000</td>\n",
       "      <td>20.000000</td>\n",
       "      <td>7.300000</td>\n",
       "      <td>26.000000</td>\n",
       "    </tr>\n",
       "    <tr>\n",
       "      <th>75%</th>\n",
       "      <td>2011.000000</td>\n",
       "      <td>0.260000</td>\n",
       "      <td>0.130000</td>\n",
       "      <td>0.000000</td>\n",
       "      <td>0.040000</td>\n",
       "      <td>0.480000</td>\n",
       "      <td>79.000000</td>\n",
       "      <td>34.000000</td>\n",
       "      <td>8.000000</td>\n",
       "      <td>82.000000</td>\n",
       "    </tr>\n",
       "    <tr>\n",
       "      <th>max</th>\n",
       "      <td>2020.000000</td>\n",
       "      <td>9.760000</td>\n",
       "      <td>9.850000</td>\n",
       "      <td>1.870000</td>\n",
       "      <td>3.120000</td>\n",
       "      <td>20.320000</td>\n",
       "      <td>98.000000</td>\n",
       "      <td>110.000000</td>\n",
       "      <td>10.000000</td>\n",
       "      <td>17611.000000</td>\n",
       "    </tr>\n",
       "  </tbody>\n",
       "</table>\n",
       "</div>"
      ],
      "text/plain": [
       "       Year_of_Release     NA_Sales     EU_Sales     JP_Sales  Other_Sales  \\\n",
       "count      9773.000000  9773.000000  9773.000000  9773.000000  9773.000000   \n",
       "mean       2008.542924     0.252005     0.148166     0.020540     0.051846   \n",
       "std           4.873190     0.518867     0.418022     0.080151     0.141487   \n",
       "min        1970.000000     0.000000     0.000000     0.000000     0.000000   \n",
       "25%        2005.000000     0.040000     0.000000     0.000000     0.000000   \n",
       "50%        2008.000000     0.100000     0.030000     0.000000     0.010000   \n",
       "75%        2011.000000     0.260000     0.130000     0.000000     0.040000   \n",
       "max        2020.000000     9.760000     9.850000     1.870000     3.120000   \n",
       "\n",
       "       Global_Sales  Critic_Score  Critic_Count   User_Score    User_Count  \n",
       "count   9773.000000   7779.000000   7779.000000  7825.000000   7825.000000  \n",
       "mean       0.472838     68.560355     24.817200     6.989572    156.563578  \n",
       "std        1.008357     13.718801     18.049816     1.433373    556.401673  \n",
       "min        0.010000     12.000000      4.000000     0.600000      4.000000  \n",
       "25%        0.070000     60.000000     11.000000     6.300000     10.000000  \n",
       "50%        0.180000     70.000000     20.000000     7.300000     26.000000  \n",
       "75%        0.480000     79.000000     34.000000     8.000000     82.000000  \n",
       "max       20.320000     98.000000    110.000000    10.000000  17611.000000  "
      ]
     },
     "execution_count": 5,
     "metadata": {},
     "output_type": "execute_result"
    }
   ],
   "source": [
    "df.describe()"
   ]
  },
  {
   "cell_type": "code",
   "execution_count": 6,
   "id": "ba093ae5",
   "metadata": {},
   "outputs": [
    {
     "name": "stdout",
     "output_type": "stream",
     "text": [
      "<class 'pandas.core.frame.DataFrame'>\n",
      "RangeIndex: 9773 entries, 0 to 9772\n",
      "Data columns (total 16 columns):\n",
      " #   Column           Non-Null Count  Dtype  \n",
      "---  ------           --------------  -----  \n",
      " 0   Name             9773 non-null   object \n",
      " 1   Platform         9773 non-null   object \n",
      " 2   Year_of_Release  9773 non-null   float64\n",
      " 3   Genre            9746 non-null   object \n",
      " 4   Publisher        9773 non-null   object \n",
      " 5   NA_Sales         9773 non-null   float64\n",
      " 6   EU_Sales         9773 non-null   float64\n",
      " 7   JP_Sales         9773 non-null   float64\n",
      " 8   Other_Sales      9773 non-null   float64\n",
      " 9   Global_Sales     9773 non-null   float64\n",
      " 10  Critic_Score     7779 non-null   float64\n",
      " 11  Critic_Count     7779 non-null   float64\n",
      " 12  User_Score       7825 non-null   float64\n",
      " 13  User_Count       7825 non-null   float64\n",
      " 14  Developer        9746 non-null   object \n",
      " 15  Rating           9622 non-null   object \n",
      "dtypes: float64(10), object(6)\n",
      "memory usage: 1.2+ MB\n"
     ]
    }
   ],
   "source": [
    "df.info()"
   ]
  },
  {
   "cell_type": "code",
   "execution_count": 7,
   "id": "23b8cc69",
   "metadata": {},
   "outputs": [
    {
     "data": {
      "text/plain": [
       "[1970.0,\n",
       " 1986.0,\n",
       " 1993.0,\n",
       " 1995.0,\n",
       " 1996.0,\n",
       " 1997.0,\n",
       " 1998.0,\n",
       " 1999.0,\n",
       " 2000.0,\n",
       " 2001.0,\n",
       " 2002.0,\n",
       " 2003.0,\n",
       " 2004.0,\n",
       " 2005.0,\n",
       " 2006.0,\n",
       " 2007.0,\n",
       " 2008.0,\n",
       " 2009.0,\n",
       " 2010.0,\n",
       " 2011.0,\n",
       " 2012.0,\n",
       " 2013.0,\n",
       " 2014.0,\n",
       " 2015.0,\n",
       " 2016.0,\n",
       " 2017.0,\n",
       " 2018.0,\n",
       " 2019.0,\n",
       " 2020.0]"
      ]
     },
     "execution_count": 7,
     "metadata": {},
     "output_type": "execute_result"
    }
   ],
   "source": [
    "sorted(list(df.Year_of_Release.unique()))"
   ]
  },
  {
   "cell_type": "code",
   "execution_count": 8,
   "id": "0cd02390",
   "metadata": {},
   "outputs": [
    {
     "data": {
      "text/plain": [
       "Action               3089\n",
       "Sports               1571\n",
       "Miscellaneous        1112\n",
       "Action Adventure     1071\n",
       "Driving               698\n",
       "Role-Playing          674\n",
       "Strategy              471\n",
       "Simulation            428\n",
       "Adventure             279\n",
       "Racing                 93\n",
       "General                63\n",
       "Puzzle                 32\n",
       "Shooter                19\n",
       "Modern                 17\n",
       "Horror                 14\n",
       "Sci-Fi                 13\n",
       "Fantasy                13\n",
       "Action RPG             13\n",
       "Historic               12\n",
       "Traditional             8\n",
       "PC-style RPG            6\n",
       "GT / Street             6\n",
       "Arcade                  5\n",
       "Fighting                4\n",
       "Edutainment             4\n",
       "First-Person            4\n",
       "Tycoon                  3\n",
       "Platformer              3\n",
       "Alternative             3\n",
       "Music                   3\n",
       "Console-style RPG       2\n",
       "Ice Hockey              2\n",
       "Dancing                 2\n",
       "Card Battle             2\n",
       "Beat-'Em-Up             1\n",
       "3D                      1\n",
       "Formula One             1\n",
       "2D                      1\n",
       "Real-Time               1\n",
       "Rally / Offroad         1\n",
       "Virtual Life            1\n",
       "Name: Genre, dtype: int64"
      ]
     },
     "execution_count": 8,
     "metadata": {},
     "output_type": "execute_result"
    }
   ],
   "source": [
    "df.Genre.value_counts()"
   ]
  },
  {
   "cell_type": "code",
   "execution_count": 9,
   "id": "6bc8ebe5",
   "metadata": {},
   "outputs": [
    {
     "data": {
      "text/plain": [
       "0.01"
      ]
     },
     "execution_count": 9,
     "metadata": {},
     "output_type": "execute_result"
    }
   ],
   "source": [
    "df['Global_Sales'].min()"
   ]
  },
  {
   "cell_type": "code",
   "execution_count": 10,
   "id": "54256d89",
   "metadata": {},
   "outputs": [
    {
     "data": {
      "text/plain": [
       "4733"
      ]
     },
     "execution_count": 10,
     "metadata": {},
     "output_type": "execute_result"
    }
   ],
   "source": [
    "test = df[df['Global_Sales']>0.01]\n",
    "test[test['Global_Sales'] != test['NA_Sales']+test['EU_Sales']+test['JP_Sales']+test['Other_Sales']].shape[0]\n"
   ]
  },
  {
   "cell_type": "code",
   "execution_count": 11,
   "id": "7ddad8ab",
   "metadata": {},
   "outputs": [
    {
     "data": {
      "text/plain": [
       "78"
      ]
     },
     "execution_count": 11,
     "metadata": {},
     "output_type": "execute_result"
    }
   ],
   "source": [
    "df[df.duplicated()].shape[0]"
   ]
  },
  {
   "cell_type": "code",
   "execution_count": 12,
   "id": "9be6c780",
   "metadata": {},
   "outputs": [],
   "source": [
    "df_copy = df.copy()"
   ]
  },
  {
   "cell_type": "code",
   "execution_count": 13,
   "id": "7f46b210",
   "metadata": {},
   "outputs": [],
   "source": [
    "df_copy.dropna(axis=0, how='any',inplace=True)"
   ]
  },
  {
   "cell_type": "code",
   "execution_count": 14,
   "id": "dd3fc149",
   "metadata": {},
   "outputs": [
    {
     "name": "stdout",
     "output_type": "stream",
     "text": [
      "<class 'pandas.core.frame.DataFrame'>\n",
      "Int64Index: 6988 entries, 0 to 9772\n",
      "Data columns (total 16 columns):\n",
      " #   Column           Non-Null Count  Dtype  \n",
      "---  ------           --------------  -----  \n",
      " 0   Name             6988 non-null   object \n",
      " 1   Platform         6988 non-null   object \n",
      " 2   Year_of_Release  6988 non-null   float64\n",
      " 3   Genre            6988 non-null   object \n",
      " 4   Publisher        6988 non-null   object \n",
      " 5   NA_Sales         6988 non-null   float64\n",
      " 6   EU_Sales         6988 non-null   float64\n",
      " 7   JP_Sales         6988 non-null   float64\n",
      " 8   Other_Sales      6988 non-null   float64\n",
      " 9   Global_Sales     6988 non-null   float64\n",
      " 10  Critic_Score     6988 non-null   float64\n",
      " 11  Critic_Count     6988 non-null   float64\n",
      " 12  User_Score       6988 non-null   float64\n",
      " 13  User_Count       6988 non-null   float64\n",
      " 14  Developer        6988 non-null   object \n",
      " 15  Rating           6988 non-null   object \n",
      "dtypes: float64(10), object(6)\n",
      "memory usage: 928.1+ KB\n"
     ]
    }
   ],
   "source": [
    "df_copy.info()"
   ]
  },
  {
   "cell_type": "code",
   "execution_count": 15,
   "id": "d2f8c94c",
   "metadata": {},
   "outputs": [],
   "source": [
    "df_copy['Global_Sales'] = df_copy['NA_Sales'] + df_copy['EU_Sales'] + df_copy['JP_Sales']+df_copy['Other_Sales']"
   ]
  },
  {
   "cell_type": "code",
   "execution_count": 16,
   "id": "90626296",
   "metadata": {},
   "outputs": [
    {
     "data": {
      "text/plain": [
       "0"
      ]
     },
     "execution_count": 16,
     "metadata": {},
     "output_type": "execute_result"
    }
   ],
   "source": [
    "df_copy[df_copy['Global_Sales'] != df_copy['NA_Sales']+df_copy['EU_Sales']+df_copy['JP_Sales']+df_copy['Other_Sales']].shape[0]"
   ]
  },
  {
   "cell_type": "code",
   "execution_count": 17,
   "id": "8f34b048",
   "metadata": {},
   "outputs": [],
   "source": [
    "df_copy.reset_index(drop=True)\n",
    "df_copy.to_csv('clean_data.csv')"
   ]
  },
  {
   "cell_type": "code",
   "execution_count": 18,
   "id": "b6eeebda",
   "metadata": {},
   "outputs": [],
   "source": [
    "clean_df = pd.read_csv('clean_data.csv')"
   ]
  },
  {
   "cell_type": "code",
   "execution_count": 19,
   "id": "5a01daa9",
   "metadata": {},
   "outputs": [
    {
     "data": {
      "text/plain": [
       "count    286.000000\n",
       "mean      24.433566\n",
       "std       64.713410\n",
       "min        1.000000\n",
       "25%        1.000000\n",
       "50%        3.000000\n",
       "75%       13.000000\n",
       "max      488.000000\n",
       "Name: Publisher, dtype: float64"
      ]
     },
     "execution_count": 19,
     "metadata": {},
     "output_type": "execute_result"
    }
   ],
   "source": [
    "clean_df['Publisher'].value_counts().describe()"
   ]
  },
  {
   "cell_type": "code",
   "execution_count": 20,
   "id": "92093d2f",
   "metadata": {},
   "outputs": [],
   "source": [
    "publishers_more_than_3_list = list(clean_df['Publisher'].value_counts()[clean_df['Publisher'].value_counts()>3].index)"
   ]
  },
  {
   "cell_type": "code",
   "execution_count": 21,
   "id": "8881edcf",
   "metadata": {},
   "outputs": [],
   "source": [
    "clean_df = clean_df[clean_df['Publisher'].isin(publishers_more_than_3_list)]"
   ]
  },
  {
   "cell_type": "code",
   "execution_count": 22,
   "id": "083439fa",
   "metadata": {},
   "outputs": [
    {
     "name": "stdout",
     "output_type": "stream",
     "text": [
      "Action          2298\n",
      "Sports          1036\n",
      "Role-Playing     571\n",
      "Strategy         356\n",
      "Simulation       211\n",
      "Adventure        130\n",
      "Racing            59\n",
      "Shooter           19\n",
      "Puzzle            13\n",
      "Fighting           3\n",
      "Name: Genre, dtype: int64\n"
     ]
    },
    {
     "data": {
      "text/plain": [
       "Genre\n",
       "Adventure       0.166308\n",
       "Puzzle          0.166923\n",
       "Strategy        0.202331\n",
       "Racing          0.310847\n",
       "Fighting        0.410000\n",
       "Role-Playing    0.441611\n",
       "Simulation      0.543744\n",
       "Action          0.592990\n",
       "Sports          0.730927\n",
       "Shooter         1.902105\n",
       "Name: Global_Sales, dtype: float64"
      ]
     },
     "execution_count": 22,
     "metadata": {},
     "output_type": "execute_result"
    }
   ],
   "source": [
    "clean_df = clean_df[clean_df['Genre'].isin(['Adventure','Strategy','Puzzle','Simulation','Misc','Action','Fighting','Sports','Racing','Role-Playing','Shooter','Platform'])]\n",
    "print(clean_df.Genre.value_counts())\n",
    "clean_df.groupby('Genre')['Global_Sales'].mean().sort_values()"
   ]
  },
  {
   "cell_type": "code",
   "execution_count": 23,
   "id": "3f2bdfc9",
   "metadata": {},
   "outputs": [
    {
     "data": {
      "image/png": "[encoded data removed]",
      "text/plain": [
       "<Figure size 1080x360 with 1 Axes>"
      ]
     },
     "metadata": {
      "needs_background": "light"
     },
     "output_type": "display_data"
    }
   ],
   "source": [
    "plt.figure(figsize=(15,5))\n",
    "plt.bar(range(0,10), list(clean_df.groupby('Genre')['Global_Sales'].mean().sort_values().values), tick_label=list(clean_df.groupby('Genre')['Global_Sales'].mean().sort_values().index))\n",
    "plt.title('Genres by average sales number')\n",
    "plt.xlabel('Genres')\n",
    "plt.ylabel('Average sales number (millions)');\n",
    "plt.ylim(0,1);"
   ]
  },
  {
   "cell_type": "code",
   "execution_count": 24,
   "id": "69d39c5b",
   "metadata": {},
   "outputs": [
    {
     "data": {
      "text/plain": [
       "Publisher\n",
       "Bethesda Softworks          1.324681\n",
       "Rockstar Games              1.470476\n",
       "Blizzard Entertainment      1.496667\n",
       "Microsoft Studios           1.755000\n",
       "RedOctane                   3.395000\n",
       "Name: Global_Sales, dtype: float64"
      ]
     },
     "execution_count": 24,
     "metadata": {},
     "output_type": "execute_result"
    }
   ],
   "source": [
    "clean_df.groupby('Publisher')['Global_Sales'].mean().sort_values()[-5:]"
   ]
  },
  {
   "cell_type": "code",
   "execution_count": 25,
   "id": "44b3c61e",
   "metadata": {},
   "outputs": [
    {
     "data": {
      "image/png": "[encoded data removed]",
      "text/plain": [
       "<Figure size 864x360 with 1 Axes>"
      ]
     },
     "metadata": {
      "needs_background": "light"
     },
     "output_type": "display_data"
    }
   ],
   "source": [
    "plt.figure(figsize=(12,5))\n",
    "plt.bar([1, 2, 3,4,5], [1.324681, 1.470476, 1.496667 , 1.755, 3.395], tick_label=['Bethesda Softworks', 'Rockstar Games',\n",
    "       'Blizzard Entertainment', 'Microsoft Studios', 'RedOctane'])\n",
    "plt.title('The top 5 publisher by average high sales ')\n",
    "plt.xlabel('Top 5 publishers')\n",
    "plt.ylabel('Sales number (millions)');\n",
    "plt.xticks(rotation=15);"
   ]
  },
  {
   "cell_type": "code",
   "execution_count": 26,
   "id": "986c2b72",
   "metadata": {},
   "outputs": [
    {
     "data": {
      "text/plain": [
       "Platform\n",
       "PlayStation 2    0.669846\n",
       "PlayStation      0.723373\n",
       "PlayStation 4    0.749942\n",
       "Xbox 360         0.885256\n",
       "PlayStation 3    0.899715\n",
       "Name: Global_Sales, dtype: float64"
      ]
     },
     "execution_count": 26,
     "metadata": {},
     "output_type": "execute_result"
    }
   ],
   "source": [
    "clean_df.groupby('Platform')['Global_Sales'].mean().sort_values()[-5:]"
   ]
  },
  {
   "cell_type": "code",
   "execution_count": 27,
   "id": "c29fc232",
   "metadata": {},
   "outputs": [
    {
     "data": {
      "image/png": "[encoded data removed]",
      "text/plain": [
       "<Figure size 648x360 with 1 Axes>"
      ]
     },
     "metadata": {
      "needs_background": "light"
     },
     "output_type": "display_data"
    }
   ],
   "source": [
    "plt.figure(figsize=(9,5))\n",
    "plt.bar([1, 2, 3,4,5], [0.669846, 0.723373, 0.749942, 0.885256, 0.899715], tick_label=['PlayStation 2', 'PlayStation', 'PlayStation 4', 'Xbox 360', 'PlayStation 3'])\n",
    "plt.title('The top 5 Platforms by average high sales ')\n",
    "plt.xlabel('Top 5 Platforms')\n",
    "plt.ylabel('Sales number (millions)');"
   ]
  },
  {
   "cell_type": "code",
   "execution_count": 28,
   "id": "98897066",
   "metadata": {},
   "outputs": [
    {
     "data": {
      "image/png": "[encoded data removed]",
      "text/plain": [
       "<Figure size 1440x360 with 1 Axes>"
      ]
     },
     "metadata": {
      "needs_background": "light"
     },
     "output_type": "display_data"
    }
   ],
   "source": [
    "plt.figure(figsize=(20,5))\n",
    "# set bin edges, compute centers\n",
    "bin_size = 1\n",
    "xbin_edges = np.arange(1980, clean_df['Year_of_Release'].max()+bin_size, bin_size)\n",
    "xbin_centers = (xbin_edges + bin_size/2)[:-1]\n",
    "\n",
    "# compute statistics in each bin\n",
    "data_xbins = pd.cut(clean_df['Year_of_Release'], xbin_edges, right = False, include_lowest = True)\n",
    "y_means = clean_df['Global_Sales'].groupby(data_xbins).mean()\n",
    "y_sems = clean_df['Global_Sales'].groupby(data_xbins).sem()  #std\n",
    "\n",
    "# plot the summarized data\n",
    "plt.errorbar(x = xbin_centers, y = y_means, yerr = y_sems)\n",
    "plt.xlabel('Year_of_Release')\n",
    "plt.ylabel('Average Global Sales(millions)');\n",
    "plt.xticks(range(1980,2021,2), range(1980,2021,2));\n",
    "plt.title('Game Average Global Sales(millions) by years');"
   ]
  },
  {
   "cell_type": "code",
   "execution_count": 29,
   "id": "02403025",
   "metadata": {},
   "outputs": [
    {
     "data": {
      "text/plain": [
       "<matplotlib.legend.Legend at 0x24cd6b8fcd0>"
      ]
     },
     "execution_count": 29,
     "metadata": {},
     "output_type": "execute_result"
    },
    {
     "data": {
      "image/png": "[encoded data removed]",
      "text/plain": [
       "<Figure size 1440x360 with 1 Axes>"
      ]
     },
     "metadata": {
      "needs_background": "light"
     },
     "output_type": "display_data"
    }
   ],
   "source": [
    "plt.figure(figsize=(20,5))\n",
    "# set bin edges, compute centers\n",
    "bin_size = 1\n",
    "xbin_edges = np.arange(1980, clean_df['Year_of_Release'].max()+bin_size, bin_size)\n",
    "xbin_centers = (xbin_edges + bin_size/2)[:-1]\n",
    "\n",
    "# compute statistics in each bin\n",
    "data_xbins = pd.cut(clean_df['Year_of_Release'], xbin_edges, right = False, include_lowest = True)\n",
    "y_means = clean_df['NA_Sales'].groupby(data_xbins).mean()\n",
    "plt.errorbar(x = xbin_centers, y = y_means)\n",
    "y_means = clean_df['EU_Sales'].groupby(data_xbins).mean()\n",
    "plt.errorbar(x = xbin_centers, y = y_means)\n",
    "y_means = clean_df['JP_Sales'].groupby(data_xbins).mean()\n",
    "plt.errorbar(x = xbin_centers, y = y_means)\n",
    "y_means = clean_df['Other_Sales'].groupby(data_xbins).mean()\n",
    "plt.errorbar(x = xbin_centers, y = y_means)\n",
    "\n",
    "# plot the summarized data\n",
    "plt.xlabel('Year')\n",
    "plt.ylabel('Average Sales(millions)');\n",
    "plt.xticks(range(1980,2021,2), range(1980,2021,2));\n",
    "plt.title('Game Average Global Sales(millions) by years');\n",
    "plt.legend(title=\"Regions\", labels=['NA_Sales','EU_Sales','JP_Sales','Other_Sales'])"
   ]
  },
  {
   "cell_type": "code",
   "execution_count": 30,
   "id": "40ba7316",
   "metadata": {},
   "outputs": [
    {
     "data": {
      "image/png": "[encoded data removed]",
      "text/plain": [
       "<Figure size 1440x288 with 1 Axes>"
      ]
     },
     "metadata": {
      "needs_background": "light"
     },
     "output_type": "display_data"
    }
   ],
   "source": [
    "Top5platform_df = clean_df[clean_df['Platform'].isin(['PlayStation 2', 'PlayStation', 'PlayStation 4', 'Xbox 360', 'PlayStation 3'])]\n",
    "plt.figure(figsize=(20,4))\n",
    "base_color = sb.color_palette()[0]\n",
    "sb.boxplot(data = Top5platform_df, x = 'Year_of_Release', y = 'Platform', color = base_color)\n",
    "plt.xlabel('Year')\n",
    "plt.ylabel('Platforms');\n",
    "plt.xticks(range(1980,2021,2), range(1980,2021,2));\n",
    "plt.title('Platforms by years');"
   ]
  },
  {
   "cell_type": "code",
   "execution_count": 31,
   "id": "6160214e",
   "metadata": {},
   "outputs": [],
   "source": [
    "df_sales_split_by_year = clean_df.groupby(['Year_of_Release']).agg(\n",
    "     NorthAmerica = ('NA_Sales','sum'),\n",
    "     Europe = ('EU_Sales','sum'),\n",
    "     Japan = ('JP_Sales','sum'),\n",
    "     Other = ('Other_Sales','sum')\n",
    " ).reset_index()"
   ]
  },
  {
   "cell_type": "code",
   "execution_count": 32,
   "id": "458f3037",
   "metadata": {},
   "outputs": [
    {
     "data": {
      "text/html": [
       "<div>\n",
       "<style scoped>\n",
       "    .dataframe tbody tr th:only-of-type {\n",
       "        vertical-align: middle;\n",
       "    }\n",
       "\n",
       "    .dataframe tbody tr th {\n",
       "        vertical-align: top;\n",
       "    }\n",
       "\n",
       "    .dataframe thead th {\n",
       "        text-align: right;\n",
       "    }\n",
       "</style>\n",
       "<table border=\"1\" class=\"dataframe\">\n",
       "  <thead>\n",
       "    <tr style=\"text-align: right;\">\n",
       "      <th></th>\n",
       "      <th>Year_of_Release</th>\n",
       "      <th>NorthAmerica</th>\n",
       "      <th>Europe</th>\n",
       "      <th>Japan</th>\n",
       "      <th>Other</th>\n",
       "    </tr>\n",
       "  </thead>\n",
       "  <tbody>\n",
       "    <tr>\n",
       "      <th>6</th>\n",
       "      <td>2000.0</td>\n",
       "      <td>22.85</td>\n",
       "      <td>11.74</td>\n",
       "      <td>5.78</td>\n",
       "      <td>2.98</td>\n",
       "    </tr>\n",
       "    <tr>\n",
       "      <th>7</th>\n",
       "      <td>2001.0</td>\n",
       "      <td>61.28</td>\n",
       "      <td>32.19</td>\n",
       "      <td>4.97</td>\n",
       "      <td>9.29</td>\n",
       "    </tr>\n",
       "    <tr>\n",
       "      <th>8</th>\n",
       "      <td>2002.0</td>\n",
       "      <td>91.75</td>\n",
       "      <td>46.05</td>\n",
       "      <td>6.16</td>\n",
       "      <td>11.84</td>\n",
       "    </tr>\n",
       "    <tr>\n",
       "      <th>9</th>\n",
       "      <td>2003.0</td>\n",
       "      <td>80.21</td>\n",
       "      <td>38.04</td>\n",
       "      <td>6.03</td>\n",
       "      <td>10.04</td>\n",
       "    </tr>\n",
       "    <tr>\n",
       "      <th>10</th>\n",
       "      <td>2004.0</td>\n",
       "      <td>89.30</td>\n",
       "      <td>37.48</td>\n",
       "      <td>6.90</td>\n",
       "      <td>11.09</td>\n",
       "    </tr>\n",
       "    <tr>\n",
       "      <th>11</th>\n",
       "      <td>2005.0</td>\n",
       "      <td>74.03</td>\n",
       "      <td>25.83</td>\n",
       "      <td>6.70</td>\n",
       "      <td>10.71</td>\n",
       "    </tr>\n",
       "    <tr>\n",
       "      <th>12</th>\n",
       "      <td>2006.0</td>\n",
       "      <td>64.29</td>\n",
       "      <td>18.95</td>\n",
       "      <td>3.95</td>\n",
       "      <td>10.09</td>\n",
       "    </tr>\n",
       "    <tr>\n",
       "      <th>13</th>\n",
       "      <td>2007.0</td>\n",
       "      <td>124.63</td>\n",
       "      <td>55.59</td>\n",
       "      <td>9.61</td>\n",
       "      <td>27.49</td>\n",
       "    </tr>\n",
       "    <tr>\n",
       "      <th>14</th>\n",
       "      <td>2008.0</td>\n",
       "      <td>119.78</td>\n",
       "      <td>62.74</td>\n",
       "      <td>9.77</td>\n",
       "      <td>29.71</td>\n",
       "    </tr>\n",
       "    <tr>\n",
       "      <th>15</th>\n",
       "      <td>2009.0</td>\n",
       "      <td>110.49</td>\n",
       "      <td>66.19</td>\n",
       "      <td>8.88</td>\n",
       "      <td>23.42</td>\n",
       "    </tr>\n",
       "    <tr>\n",
       "      <th>16</th>\n",
       "      <td>2010.0</td>\n",
       "      <td>123.75</td>\n",
       "      <td>71.71</td>\n",
       "      <td>11.29</td>\n",
       "      <td>24.99</td>\n",
       "    </tr>\n",
       "    <tr>\n",
       "      <th>17</th>\n",
       "      <td>2011.0</td>\n",
       "      <td>118.18</td>\n",
       "      <td>81.74</td>\n",
       "      <td>11.38</td>\n",
       "      <td>27.04</td>\n",
       "    </tr>\n",
       "    <tr>\n",
       "      <th>18</th>\n",
       "      <td>2012.0</td>\n",
       "      <td>80.91</td>\n",
       "      <td>48.71</td>\n",
       "      <td>10.81</td>\n",
       "      <td>17.35</td>\n",
       "    </tr>\n",
       "    <tr>\n",
       "      <th>19</th>\n",
       "      <td>2013.0</td>\n",
       "      <td>53.08</td>\n",
       "      <td>33.20</td>\n",
       "      <td>4.87</td>\n",
       "      <td>13.09</td>\n",
       "    </tr>\n",
       "    <tr>\n",
       "      <th>20</th>\n",
       "      <td>2014.0</td>\n",
       "      <td>34.97</td>\n",
       "      <td>30.30</td>\n",
       "      <td>4.69</td>\n",
       "      <td>9.97</td>\n",
       "    </tr>\n",
       "    <tr>\n",
       "      <th>21</th>\n",
       "      <td>2015.0</td>\n",
       "      <td>26.23</td>\n",
       "      <td>19.78</td>\n",
       "      <td>3.83</td>\n",
       "      <td>7.31</td>\n",
       "    </tr>\n",
       "    <tr>\n",
       "      <th>22</th>\n",
       "      <td>2016.0</td>\n",
       "      <td>44.57</td>\n",
       "      <td>42.19</td>\n",
       "      <td>5.78</td>\n",
       "      <td>13.99</td>\n",
       "    </tr>\n",
       "    <tr>\n",
       "      <th>23</th>\n",
       "      <td>2017.0</td>\n",
       "      <td>46.22</td>\n",
       "      <td>45.52</td>\n",
       "      <td>6.83</td>\n",
       "      <td>14.09</td>\n",
       "    </tr>\n",
       "    <tr>\n",
       "      <th>24</th>\n",
       "      <td>2018.0</td>\n",
       "      <td>32.88</td>\n",
       "      <td>24.20</td>\n",
       "      <td>4.94</td>\n",
       "      <td>8.56</td>\n",
       "    </tr>\n",
       "    <tr>\n",
       "      <th>25</th>\n",
       "      <td>2019.0</td>\n",
       "      <td>0.00</td>\n",
       "      <td>0.00</td>\n",
       "      <td>0.93</td>\n",
       "      <td>0.00</td>\n",
       "    </tr>\n",
       "    <tr>\n",
       "      <th>26</th>\n",
       "      <td>2020.0</td>\n",
       "      <td>0.00</td>\n",
       "      <td>0.00</td>\n",
       "      <td>0.39</td>\n",
       "      <td>0.00</td>\n",
       "    </tr>\n",
       "  </tbody>\n",
       "</table>\n",
       "</div>"
      ],
      "text/plain": [
       "    Year_of_Release  NorthAmerica  Europe  Japan  Other\n",
       "6            2000.0         22.85   11.74   5.78   2.98\n",
       "7            2001.0         61.28   32.19   4.97   9.29\n",
       "8            2002.0         91.75   46.05   6.16  11.84\n",
       "9            2003.0         80.21   38.04   6.03  10.04\n",
       "10           2004.0         89.30   37.48   6.90  11.09\n",
       "11           2005.0         74.03   25.83   6.70  10.71\n",
       "12           2006.0         64.29   18.95   3.95  10.09\n",
       "13           2007.0        124.63   55.59   9.61  27.49\n",
       "14           2008.0        119.78   62.74   9.77  29.71\n",
       "15           2009.0        110.49   66.19   8.88  23.42\n",
       "16           2010.0        123.75   71.71  11.29  24.99\n",
       "17           2011.0        118.18   81.74  11.38  27.04\n",
       "18           2012.0         80.91   48.71  10.81  17.35\n",
       "19           2013.0         53.08   33.20   4.87  13.09\n",
       "20           2014.0         34.97   30.30   4.69   9.97\n",
       "21           2015.0         26.23   19.78   3.83   7.31\n",
       "22           2016.0         44.57   42.19   5.78  13.99\n",
       "23           2017.0         46.22   45.52   6.83  14.09\n",
       "24           2018.0         32.88   24.20   4.94   8.56\n",
       "25           2019.0          0.00    0.00   0.93   0.00\n",
       "26           2020.0          0.00    0.00   0.39   0.00"
      ]
     },
     "execution_count": 32,
     "metadata": {},
     "output_type": "execute_result"
    }
   ],
   "source": [
    "df_sales_split_by_year.tail(21)"
   ]
  },
  {
   "cell_type": "code",
   "execution_count": 33,
   "id": "42b0fa58",
   "metadata": {},
   "outputs": [
    {
     "data": {
      "image/png": "[encoded data removed]",
      "text/plain": [
       "<Figure size 720x432 with 1 Axes>"
      ]
     },
     "metadata": {
      "needs_background": "light"
     },
     "output_type": "display_data"
    }
   ],
   "source": [
    "plt.figure(figsize=(10,6))\n",
    "p1=plt.bar(df_sales_split_by_year.Year_of_Release, df_sales_split_by_year.NorthAmerica)\n",
    "bot = df_sales_split_by_year.NorthAmerica\n",
    "p2=plt.bar(df_sales_split_by_year.Year_of_Release, df_sales_split_by_year.Europe, bottom=bot)\n",
    "bot = bot+df_sales_split_by_year.Europe\n",
    "p3=plt.bar(df_sales_split_by_year.Year_of_Release, df_sales_split_by_year.Japan, bottom=bot)\n",
    "bot = bot+df_sales_split_by_year.Japan\n",
    "p4=plt.bar(df_sales_split_by_year.Year_of_Release, df_sales_split_by_year.Other, bottom=bot)\n",
    "plt.title('Sales development by region')\n",
    "plt.legend((p1[0],p2[0],p3[0],p4[0]), ('North America', 'Europe', 'Japan', 'Other'))\n",
    "plt.ylabel('Units sold (in millions)')\n",
    "plt.xlabel('Year')\n",
    "plt.grid()\n",
    "plt.show()"
   ]
  },
  {
   "cell_type": "code",
   "execution_count": 37,
   "id": "46dba2fa",
   "metadata": {},
   "outputs": [
    {
     "name": "stdout",
     "output_type": "stream",
     "text": [
      "Action          2298\n",
      "Sports          1036\n",
      "Role-Playing     571\n",
      "Strategy         356\n",
      "Simulation       211\n",
      "Adventure        130\n",
      "Racing            59\n",
      "Shooter           19\n",
      "Puzzle            13\n",
      "Fighting           3\n",
      "Name: Genre, dtype: int64\n"
     ]
    }
   ],
   "source": [
    "genre_counts = clean_df.Genre.value_counts()"
   ]
  },
  {
   "cell_type": "code",
   "execution_count": 41,
   "id": "25a65834",
   "metadata": {},
   "outputs": [
    {
     "data": {
      "image/png": "[encoded data removed]",
      "text/plain": [
       "<Figure size 1440x504 with 1 Axes>"
      ]
     },
     "metadata": {},
     "output_type": "display_data"
    }
   ],
   "source": [
    "plt.figure(figsize=(20,7))\n",
    "plt.title('Genre')\n",
    "plt.pie(genre_counts, labels=genre_counts.index, autopct='%1.1f%%', startangle=180);"
   ]
  },
  {
   "cell_type": "code",
   "execution_count": null,
   "id": "93905ad7",
   "metadata": {},
   "outputs": [],
   "source": []
  }
 ],
 "metadata": {
  "kernelspec": {
   "display_name": "Python 3",
   "language": "python",
   "name": "python3"
  },
  "language_info": {
   "codemirror_mode": {
    "name": "ipython",
    "version": 3
   },
   "file_extension": ".py",
   "mimetype": "text/x-python",
   "name": "python",
   "nbconvert_exporter": "python",
   "pygments_lexer": "ipython3",
   "version": "3.8.8"
  }
 },
 "nbformat": 4,
 "nbformat_minor": 5
}
